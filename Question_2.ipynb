{
 "cells": [
  {
   "cell_type": "markdown",
   "id": "e85d9960",
   "metadata": {},
   "source": [
    "## Q.2Given a string s, find the first non-repeating character in it and return its index. If it does not exist, return -1.\n",
    "\n",
    "Example 1:\n",
    "Input: s = \"leetcode\"\n",
    "Output: 0\n",
    "\n",
    "Example 2:\n",
    "Input: s = \"loveleetcode\"\n",
    "Output: 2\n",
    "\n",
    "Example 3:\n",
    "Input: s = \"aabb\"\n",
    "Output: -1\n",
    "\n",
    "Constraints:\n",
    "a. 1 <= s.length <= 10^5\n",
    "b. s consists of only lowercase English lette"
   ]
  },
  {
   "cell_type": "code",
   "execution_count": 1,
   "id": "59bc3d6f",
   "metadata": {},
   "outputs": [],
   "source": [
    "def RepeatingFunc(myStr):\n",
    "    char_order = []\n",
    "    counts = {}\n",
    "\n",
    "    for c in myStr:\n",
    "        if c in counts:\n",
    "            counts[c] += 1\n",
    "        else:\n",
    "            counts[c] = 1\n",
    "            char_order.append(c)\n",
    "    for c in char_order:\n",
    "        if counts[c] == 1:\n",
    "            return myStr.index(c)\n",
    "        else:\n",
    "            return '-1'"
   ]
  },
  {
   "cell_type": "code",
   "execution_count": 2,
   "id": "2c0242b1",
   "metadata": {},
   "outputs": [
    {
     "data": {
      "text/plain": [
       "0"
      ]
     },
     "execution_count": 2,
     "metadata": {},
     "output_type": "execute_result"
    }
   ],
   "source": [
    "RepeatingFunc('leetcode')"
   ]
  },
  {
   "cell_type": "code",
   "execution_count": null,
   "id": "2dba6444",
   "metadata": {},
   "outputs": [],
   "source": []
  }
 ],
 "metadata": {
  "kernelspec": {
   "display_name": "Python 3 (ipykernel)",
   "language": "python",
   "name": "python3"
  },
  "language_info": {
   "codemirror_mode": {
    "name": "ipython",
    "version": 3
   },
   "file_extension": ".py",
   "mimetype": "text/x-python",
   "name": "python",
   "nbconvert_exporter": "python",
   "pygments_lexer": "ipython3",
   "version": "3.9.12"
  }
 },
 "nbformat": 4,
 "nbformat_minor": 5
}
