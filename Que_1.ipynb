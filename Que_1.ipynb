{
 "cells": [
  {
   "cell_type": "code",
   "execution_count": 1,
   "id": "06249aca",
   "metadata": {},
   "outputs": [],
   "source": [
    "def mySqrt(x):\n",
    "        \n",
    "        if x < 2:\n",
    "            return x\n",
    "        \n",
    "        start = 0\n",
    "        end = x/2\n",
    "        \n",
    "        while (start <= end):\n",
    "            \n",
    "            mid = int((start + end) / 2)\n",
    "            \n",
    "            square = mid * mid\n",
    "            \n",
    "            if square == x:\n",
    "                return mid\n",
    "            \n",
    "            if square > x:\n",
    "                end = mid - 1\n",
    "                \n",
    "            else:\n",
    "                start = mid + 1\n",
    "                \n",
    "        return end"
   ]
  },
  {
   "cell_type": "code",
   "execution_count": 4,
   "id": "949d1ac0",
   "metadata": {},
   "outputs": [
    {
     "data": {
      "text/plain": [
       "4"
      ]
     },
     "execution_count": 4,
     "metadata": {},
     "output_type": "execute_result"
    }
   ],
   "source": [
    "mySqrt(16)"
   ]
  },
  {
   "cell_type": "markdown",
   "id": "884cf97a",
   "metadata": {},
   "source": [
    "## Time complexity : O(log n)\n",
    "## Space Complexity: O(1)"
   ]
  },
  {
   "cell_type": "code",
   "execution_count": null,
   "id": "363ee287",
   "metadata": {},
   "outputs": [],
   "source": []
  }
 ],
 "metadata": {
  "kernelspec": {
   "display_name": "Python 3 (ipykernel)",
   "language": "python",
   "name": "python3"
  },
  "language_info": {
   "codemirror_mode": {
    "name": "ipython",
    "version": 3
   },
   "file_extension": ".py",
   "mimetype": "text/x-python",
   "name": "python",
   "nbconvert_exporter": "python",
   "pygments_lexer": "ipython3",
   "version": "3.9.12"
  }
 },
 "nbformat": 4,
 "nbformat_minor": 5
}
